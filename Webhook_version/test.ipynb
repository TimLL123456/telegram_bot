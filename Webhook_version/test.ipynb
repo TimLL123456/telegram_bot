{
 "cells": [
  {
   "cell_type": "code",
   "execution_count": 4,
   "id": "8ae078a1",
   "metadata": {},
   "outputs": [
    {
     "data": {
      "text/plain": [
       "True"
      ]
     },
     "execution_count": 4,
     "metadata": {},
     "output_type": "execute_result"
    }
   ],
   "source": [
    "# Please install OpenAI SDK first: `pip3 install openai`\n",
    "from openai import OpenAI\n",
    "import os\n",
    "from dotenv import load_dotenv\n",
    "import json\n",
    "\n",
    "load_dotenv()"
   ]
  },
  {
   "cell_type": "code",
   "execution_count": 5,
   "id": "1e02384d",
   "metadata": {},
   "outputs": [],
   "source": [
    "DEEPSEEK_API = os.getenv(\"DEEPSEEK_API\")  # Load the API key from the environment variable"
   ]
  },
  {
   "cell_type": "markdown",
   "id": "63286a37",
   "metadata": {},
   "source": [
    "### Deepseek from `OpenAI` Trial"
   ]
  },
  {
   "cell_type": "code",
   "execution_count": 9,
   "id": "6a1f8dd4",
   "metadata": {},
   "outputs": [
    {
     "name": "stdout",
     "output_type": "stream",
     "text": [
      "哈哈，這個開場白有點突然啊！不過如果你是來聊天的，我很樂意陪你～ \n",
      "\n",
      "我是個AI助手，沒有實體也沒有家人關係，但如果你喜歡「爸爸」這個稱呼……那記得紅包要多發點喔！ （開玩笑的～） \n",
      "\n",
      "有什麼需要幫忙的嗎？或者單純想閒聊？ 😄\n"
     ]
    }
   ],
   "source": [
    "client = OpenAI(api_key=DEEPSEEK_API, base_url=\"https://api.deepseek.com\")\n",
    "\n",
    "response = client.chat.completions.create(\n",
    "    model=\"deepseek-chat\",\n",
    "    messages=[\n",
    "        {\"role\": \"system\", \"content\": \"You are a helpful assistant\"},\n",
    "        {\"role\": \"user\", \"content\": \"你是誰？我是你爸？\"},\n",
    "    ],\n",
    "    stream=False\n",
    ")\n",
    "\n",
    "print(response.choices[0].message.content)"
   ]
  },
  {
   "cell_type": "code",
   "execution_count": 14,
   "id": "53f67f95",
   "metadata": {},
   "outputs": [],
   "source": [
    "# Extract features using OpenAI\n",
    "def extract_features(text: str) -> dict:\n",
    "    prompt = f\"\"\"\n",
    "    Extract the following features from the input text as a JSON object:\n",
    "    - Date (ISO format, e.g., 2025-05-02; use today's date if not specified)\n",
    "    - Category (either 'Income' or 'Expense', guess if not clear)\n",
    "    - Description (short summary of the transaction)\n",
    "    - Price (numeric value, assume USD if no currency specified)\n",
    "\n",
    "    Input: {text}\n",
    "\n",
    "    Return a JSON object with these fields. If a field cannot be determined, use reasonable defaults or null.\n",
    "    \"\"\"\n",
    "\n",
    "    response = client.chat.completions.create(\n",
    "        model=\"deepseek-chat\",\n",
    "        messages=[\n",
    "            {\"role\": \"system\", \"content\": \"You are a helpful assistant that extracts structured data from text.\"},\n",
    "            {\"role\": \"user\", \"content\": prompt}\n",
    "        ]\n",
    "    )\n",
    "    return response.choices[0].message.content"
   ]
  },
  {
   "cell_type": "code",
   "execution_count": 15,
   "id": "755f22b4",
   "metadata": {},
   "outputs": [
    {
     "name": "stdout",
     "output_type": "stream",
     "text": [
      "```json\n",
      "{\n",
      "  \"Date\": \"2025-05-02\",\n",
      "  \"Category\": \"Income\",\n",
      "  \"Description\": \"Salary\",\n",
      "  \"Price\": 1000\n",
      "}\n",
      "```\n"
     ]
    }
   ],
   "source": [
    "text = \"2025-05-02, 1000, Salary\"\n",
    "features = extract_features(text)\n",
    "print(features)"
   ]
  },
  {
   "cell_type": "markdown",
   "id": "329ec172",
   "metadata": {},
   "source": [
    "### Structured LLM Output by `Langchain`"
   ]
  },
  {
   "cell_type": "markdown",
   "id": "83043831",
   "metadata": {},
   "source": [
    "Reference:\n",
    "1. How to return structured data from a model: <br> https://python.langchain.com/docs/how_to/structured_output/#the-with_structured_output-method\n",
    "2. Structured outputs: <br> https://python.langchain.com/docs/concepts/structured_outputs/"
   ]
  },
  {
   "cell_type": "code",
   "execution_count": 11,
   "id": "47fea05a",
   "metadata": {},
   "outputs": [
    {
     "data": {
      "text/plain": [
       "AIMessage(content='The capital of France is **Paris**. It is one of the most famous and visited cities in the world, known for landmarks like the Eiffel Tower, the Louvre Museum, and Notre-Dame Cathedral.  \\n\\nWould you like recommendations for things to do in Paris? 😊', additional_kwargs={'refusal': None}, response_metadata={'token_usage': {'completion_tokens': 56, 'prompt_tokens': 10, 'total_tokens': 66, 'completion_tokens_details': None, 'prompt_tokens_details': {'audio_tokens': None, 'cached_tokens': 0}, 'prompt_cache_hit_tokens': 0, 'prompt_cache_miss_tokens': 10}, 'model_name': 'deepseek-chat', 'system_fingerprint': 'fp_8802369eaa_prod0425fp8', 'id': 'da77159f-f444-46ab-9e88-05ebd801a81c', 'service_tier': None, 'finish_reason': 'stop', 'logprobs': None}, id='run--a0fea774-efbf-42d7-ab58-aebeb7457edf-0', usage_metadata={'input_tokens': 10, 'output_tokens': 56, 'total_tokens': 66, 'input_token_details': {'cache_read': 0}, 'output_token_details': {}})"
      ]
     },
     "execution_count": 11,
     "metadata": {},
     "output_type": "execute_result"
    }
   ],
   "source": [
    "import os\n",
    "from langchain.chat_models import init_chat_model\n",
    "\n",
    "os.environ[\"DEEPSEEK_API_KEY\"] = DEEPSEEK_API  # Set the API key in the environment variable\n",
    "\n",
    "llm = init_chat_model(\"deepseek-chat\", model_provider=\"deepseek\")\n",
    "\n",
    "llm.invoke(\"What is the capital of France?\")"
   ]
  },
  {
   "cell_type": "code",
   "execution_count": 12,
   "id": "d49289a5",
   "metadata": {},
   "outputs": [
    {
     "data": {
      "text/plain": [
       "Joke(setup=\"Why don't cats play poker in the wild?\", punchline='Because there are too many cheetahs!', rating=7)"
      ]
     },
     "execution_count": 12,
     "metadata": {},
     "output_type": "execute_result"
    }
   ],
   "source": [
    "from typing import Optional\n",
    "from pydantic import BaseModel, Field\n",
    "\n",
    "\n",
    "# Pydantic\n",
    "class Joke(BaseModel):\n",
    "    \"\"\"Joke to tell user.\"\"\"\n",
    "\n",
    "    setup: str = Field(description=\"The setup of the joke\")\n",
    "    punchline: str = Field(description=\"The punchline to the joke\")\n",
    "    rating: Optional[int] = Field(\n",
    "        default=None, description=\"How funny the joke is, from 1 to 10\"\n",
    "    )\n",
    "\n",
    "\n",
    "structured_llm = llm.with_structured_output(Joke)\n",
    "structured_llm.invoke(\"Tell me a joke about cats\")"
   ]
  }
 ],
 "metadata": {
  "kernelspec": {
   "display_name": "web_bot",
   "language": "python",
   "name": "python3"
  },
  "language_info": {
   "codemirror_mode": {
    "name": "ipython",
    "version": 3
   },
   "file_extension": ".py",
   "mimetype": "text/x-python",
   "name": "python",
   "nbconvert_exporter": "python",
   "pygments_lexer": "ipython3",
   "version": "3.10.14"
  }
 },
 "nbformat": 4,
 "nbformat_minor": 5
}
