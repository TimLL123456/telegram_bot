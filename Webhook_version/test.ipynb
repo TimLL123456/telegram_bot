{
 "cells": [
  {
   "cell_type": "code",
   "execution_count": 1,
   "id": "8ae078a1",
   "metadata": {},
   "outputs": [
    {
     "data": {
      "text/plain": [
       "True"
      ]
     },
     "execution_count": 1,
     "metadata": {},
     "output_type": "execute_result"
    }
   ],
   "source": [
    "# Please install OpenAI SDK first: `pip3 install openai`\n",
    "from openai import OpenAI\n",
    "import os\n",
    "from dotenv import load_dotenv\n",
    "import json\n",
    "from typing import Optional\n",
    "from pydantic import BaseModel, Field\n",
    "import os\n",
    "from langchain.chat_models import init_chat_model\n",
    "\n",
    "load_dotenv()"
   ]
  },
  {
   "cell_type": "code",
   "execution_count": 5,
   "id": "1e02384d",
   "metadata": {},
   "outputs": [],
   "source": [
    "DEEPSEEK_API = os.getenv(\"DEEPSEEK_API\")  # Load the API key from the environment variable"
   ]
  },
  {
   "cell_type": "markdown",
   "id": "63286a37",
   "metadata": {},
   "source": [
    "### Deepseek from `OpenAI` Trial"
   ]
  },
  {
   "cell_type": "code",
   "execution_count": 3,
   "id": "6a1f8dd4",
   "metadata": {},
   "outputs": [
    {
     "name": "stdout",
     "output_type": "stream",
     "text": [
      "哈哈，這個開場白有點突然啊！不過如果你是在開玩笑的話——「爸，我記得你上次說要給我零用錢，是不是該兌現了？」（開個小玩笑～）  \n",
      "\n",
      "其實我是個AI助手，專門負責回答問題、提供資訊或陪你聊聊天。如果有什麼需要幫忙的，儘管告訴我！ 😄  \n",
      "\n",
      "（如果剛才的稱呼讓你覺得冒犯，也可以直接說哦，我會調整的～）\n"
     ]
    }
   ],
   "source": [
    "client = OpenAI(api_key=DEEPSEEK_API, base_url=\"https://api.deepseek.com\")\n",
    "\n",
    "response = client.chat.completions.create(\n",
    "    model=\"deepseek-chat\",\n",
    "    messages=[\n",
    "        {\"role\": \"system\", \"content\": \"You are a helpful assistant\"},\n",
    "        {\"role\": \"user\", \"content\": \"你是誰？我是你爸？\"},\n",
    "    ],\n",
    "    stream=False\n",
    ")\n",
    "\n",
    "print(response.choices[0].message.content)"
   ]
  },
  {
   "cell_type": "code",
   "execution_count": 14,
   "id": "53f67f95",
   "metadata": {},
   "outputs": [],
   "source": [
    "# Extract features using OpenAI\n",
    "def extract_features(text: str) -> dict:\n",
    "    prompt = f\"\"\"\n",
    "    Extract the following features from the input text as a JSON object:\n",
    "    - Date (ISO format, e.g., 2025-05-02; use today's date if not specified)\n",
    "    - Category (either 'Income' or 'Expense', guess if not clear)\n",
    "    - Description (short summary of the transaction)\n",
    "    - Price (numeric value, assume USD if no currency specified)\n",
    "\n",
    "    Input: {text}\n",
    "\n",
    "    Return a JSON object with these fields. If a field cannot be determined, use reasonable defaults or null.\n",
    "    \"\"\"\n",
    "\n",
    "    response = client.chat.completions.create(\n",
    "        model=\"deepseek-chat\",\n",
    "        messages=[\n",
    "            {\"role\": \"system\", \"content\": \"You are a helpful assistant that extracts structured data from text.\"},\n",
    "            {\"role\": \"user\", \"content\": prompt}\n",
    "        ]\n",
    "    )\n",
    "    return response.choices[0].message.content"
   ]
  },
  {
   "cell_type": "code",
   "execution_count": 15,
   "id": "755f22b4",
   "metadata": {},
   "outputs": [
    {
     "name": "stdout",
     "output_type": "stream",
     "text": [
      "```json\n",
      "{\n",
      "  \"Date\": \"2025-05-02\",\n",
      "  \"Category\": \"Income\",\n",
      "  \"Description\": \"Salary\",\n",
      "  \"Price\": 1000\n",
      "}\n",
      "```\n"
     ]
    }
   ],
   "source": [
    "text = \"2025-05-02, 1000, Salary\"\n",
    "features = extract_features(text)\n",
    "print(features)"
   ]
  },
  {
   "cell_type": "markdown",
   "id": "329ec172",
   "metadata": {},
   "source": [
    "### Structured LLM Output by `Langchain`"
   ]
  },
  {
   "cell_type": "markdown",
   "id": "83043831",
   "metadata": {},
   "source": [
    "Reference:\n",
    "1. How to return structured data from a model: <br> https://python.langchain.com/docs/how_to/structured_output/#the-with_structured_output-method\n",
    "2. Structured outputs: <br> https://python.langchain.com/docs/concepts/structured_outputs/"
   ]
  },
  {
   "cell_type": "code",
   "execution_count": 6,
   "id": "47fea05a",
   "metadata": {},
   "outputs": [],
   "source": [
    "import os\n",
    "from langchain.chat_models import init_chat_model\n",
    "\n",
    "os.environ[\"DEEPSEEK_API_KEY\"] = DEEPSEEK_API  # Set the API key in the environment variable\n",
    "\n",
    "llm = init_chat_model(\"deepseek-chat\", model_provider=\"deepseek\")\n",
    "\n",
    "# llm.invoke(\"What is the capital of France?\")"
   ]
  },
  {
   "cell_type": "code",
   "execution_count": null,
   "id": "78b8498d",
   "metadata": {},
   "outputs": [],
   "source": [
    "text_input = \"2025-05-02, 1000, Salary\"\n",
    "\n",
    "class FeaturesFormatter(BaseModel):\n",
    "    \"\"\"Feature formatter to extract features from text.\"\"\"\n",
    "\n",
    "    date: str = Field(description=\"Date of the transaction in ISO format (e.g., 2025-05-02)\")\n",
    "    category: str = Field(description=\"Category of the transaction\")\n",
    "    description: str = Field(description=\"Description of the transaction\")\n",
    "    price: float = Field(description=\"Price of the transaction in HKD\")\n",
    "\n",
    "# Initialize the LLM with structured output\n",
    "structured_llm = llm.with_structured_output(FeaturesFormatter)\n",
    "\n",
    "# Function to extract features from user input text\n",
    "def extract_bookkeeping_features(text: str) -> dict:\n",
    "    structured_output = structured_llm.invoke(text)\n",
    "    return structured_output.model_dump()\n",
    "\n",
    "# Example usage\n",
    "user_input = \"Eat five guys today for 59 HKD\"\n",
    "features = extract_bookkeeping_features(user_input)\n",
    "print(json.dumps(features, indent=4))"
   ]
  },
  {
   "cell_type": "code",
   "execution_count": 2,
   "id": "16e56d01",
   "metadata": {},
   "outputs": [
    {
     "ename": "NameError",
     "evalue": "name 'extract_bookkeeping_features' is not defined",
     "output_type": "error",
     "traceback": [
      "\u001b[1;31m---------------------------------------------------------------------------\u001b[0m",
      "\u001b[1;31mNameError\u001b[0m                                 Traceback (most recent call last)",
      "Cell \u001b[1;32mIn[2], line 15\u001b[0m\n\u001b[0;32m      1\u001b[0m user_input_list \u001b[38;5;241m=\u001b[39m [\n\u001b[0;32m      2\u001b[0m     \u001b[38;5;124m\"\u001b[39m\u001b[38;5;124mPaid $25 for a taxi ride this afternoon\u001b[39m\u001b[38;5;124m\"\u001b[39m,\n\u001b[0;32m      3\u001b[0m     \u001b[38;5;124m\"\u001b[39m\u001b[38;5;124mBought concert tickets for 80 dollars yesterday\u001b[39m\u001b[38;5;124m\"\u001b[39m,\n\u001b[1;32m   (...)\u001b[0m\n\u001b[0;32m     11\u001b[0m     \u001b[38;5;124m\"\u001b[39m\u001b[38;5;124mBought a book today\u001b[39m\u001b[38;5;124m\"\u001b[39m\n\u001b[0;32m     12\u001b[0m ]\n\u001b[0;32m     14\u001b[0m \u001b[38;5;28;01mfor\u001b[39;00m user_input \u001b[38;5;129;01min\u001b[39;00m user_input_list:\n\u001b[1;32m---> 15\u001b[0m     features \u001b[38;5;241m=\u001b[39m \u001b[43mextract_bookkeeping_features\u001b[49m(user_input)\n\u001b[0;32m     16\u001b[0m     \u001b[38;5;28mprint\u001b[39m(json\u001b[38;5;241m.\u001b[39mdumps(features, indent\u001b[38;5;241m=\u001b[39m\u001b[38;5;241m4\u001b[39m))\n\u001b[0;32m     17\u001b[0m     \u001b[38;5;28mprint\u001b[39m(\u001b[38;5;124mf\u001b[39m\u001b[38;5;124m\"\u001b[39m\u001b[38;5;132;01m{\u001b[39;00m\u001b[38;5;124m'\u001b[39m\u001b[38;5;124m-\u001b[39m\u001b[38;5;124m'\u001b[39m\u001b[38;5;250m \u001b[39m\u001b[38;5;241m*\u001b[39m\u001b[38;5;250m \u001b[39m\u001b[38;5;241m20\u001b[39m\u001b[38;5;132;01m}\u001b[39;00m\u001b[38;5;124m\"\u001b[39m)\n",
      "\u001b[1;31mNameError\u001b[0m: name 'extract_bookkeeping_features' is not defined"
     ]
    }
   ],
   "source": [
    "user_input_list = [\n",
    "    \"Paid $25 for a taxi ride this afternoon\",\n",
    "    \"Bought concert tickets for 80 dollars yesterday\",\n",
    "    \"Spent 12 on coffee and a donut this morning\",\n",
    "    \"Got groceries for $45.50 on 2025-05-10\",\n",
    "    \"Went to the movies last night and spent 30\",\n",
    "    \"Bought a new shirt for 20 bucks today\",\n",
    "    \"Had dinner at a restaurant for $75 last Friday\",\n",
    "    \"Subscribed to a streaming service for 15 dollars this month\",\n",
    "    \"Filled up gas for 40 on 2025-05-08\",\n",
    "    \"Bought a book today\"\n",
    "]\n",
    "\n",
    "for user_input in user_input_list:\n",
    "    features = extract_bookkeeping_features(user_input)\n",
    "    print(json.dumps(features, indent=4))\n",
    "    print(f\"{'-' * 20}\")"
   ]
  }
 ],
 "metadata": {
  "kernelspec": {
   "display_name": "web_bot",
   "language": "python",
   "name": "python3"
  },
  "language_info": {
   "codemirror_mode": {
    "name": "ipython",
    "version": 3
   },
   "file_extension": ".py",
   "mimetype": "text/x-python",
   "name": "python",
   "nbconvert_exporter": "python",
   "pygments_lexer": "ipython3",
   "version": "3.10.14"
  }
 },
 "nbformat": 4,
 "nbformat_minor": 5
}
