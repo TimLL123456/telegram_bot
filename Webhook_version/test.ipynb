{
 "cells": [
  {
   "cell_type": "code",
   "execution_count": null,
   "id": "8ae078a1",
   "metadata": {},
   "outputs": [
    {
     "data": {
      "text/plain": [
       "True"
      ]
     },
     "execution_count": 7,
     "metadata": {},
     "output_type": "execute_result"
    }
   ],
   "source": [
    "# Please install OpenAI SDK first: `pip3 install openai`\n",
    "from openai import OpenAI\n",
    "import os\n",
    "from dotenv import load_dotenv\n",
    "import json\n",
    "\n",
    "load_dotenv()"
   ]
  },
  {
   "cell_type": "code",
   "execution_count": 8,
   "id": "1e02384d",
   "metadata": {},
   "outputs": [],
   "source": [
    "DEEPSEEK_API = os.getenv(\"DEEPSEEK_API\")  # Load the API key from the environment variable"
   ]
  },
  {
   "cell_type": "code",
   "execution_count": 9,
   "id": "6a1f8dd4",
   "metadata": {},
   "outputs": [
    {
     "name": "stdout",
     "output_type": "stream",
     "text": [
      "哈哈，這個開場白有點突然啊！不過如果你是來聊天的，我很樂意陪你～ \n",
      "\n",
      "我是個AI助手，沒有實體也沒有家人關係，但如果你喜歡「爸爸」這個稱呼……那記得紅包要多發點喔！ （開玩笑的～） \n",
      "\n",
      "有什麼需要幫忙的嗎？或者單純想閒聊？ 😄\n"
     ]
    }
   ],
   "source": [
    "client = OpenAI(api_key=DEEPSEEK_API, base_url=\"https://api.deepseek.com\")\n",
    "\n",
    "response = client.chat.completions.create(\n",
    "    model=\"deepseek-chat\",\n",
    "    messages=[\n",
    "        {\"role\": \"system\", \"content\": \"You are a helpful assistant\"},\n",
    "        {\"role\": \"user\", \"content\": \"你是誰？我是你爸？\"},\n",
    "    ],\n",
    "    stream=False\n",
    ")\n",
    "\n",
    "print(response.choices[0].message.content)"
   ]
  },
  {
   "cell_type": "code",
   "execution_count": 14,
   "id": "53f67f95",
   "metadata": {},
   "outputs": [],
   "source": [
    "# Extract features using OpenAI\n",
    "def extract_features(text: str) -> dict:\n",
    "    prompt = f\"\"\"\n",
    "    Extract the following features from the input text as a JSON object:\n",
    "    - Date (ISO format, e.g., 2025-05-02; use today's date if not specified)\n",
    "    - Category (either 'Income' or 'Expense', guess if not clear)\n",
    "    - Description (short summary of the transaction)\n",
    "    - Price (numeric value, assume USD if no currency specified)\n",
    "\n",
    "    Input: {text}\n",
    "\n",
    "    Return a JSON object with these fields. If a field cannot be determined, use reasonable defaults or null.\n",
    "    \"\"\"\n",
    "\n",
    "    response = client.chat.completions.create(\n",
    "        model=\"deepseek-chat\",\n",
    "        messages=[\n",
    "            {\"role\": \"system\", \"content\": \"You are a helpful assistant that extracts structured data from text.\"},\n",
    "            {\"role\": \"user\", \"content\": prompt}\n",
    "        ]\n",
    "    )\n",
    "    return response.choices[0].message.content"
   ]
  },
  {
   "cell_type": "code",
   "execution_count": 15,
   "id": "755f22b4",
   "metadata": {},
   "outputs": [
    {
     "name": "stdout",
     "output_type": "stream",
     "text": [
      "```json\n",
      "{\n",
      "  \"Date\": \"2025-05-02\",\n",
      "  \"Category\": \"Income\",\n",
      "  \"Description\": \"Salary\",\n",
      "  \"Price\": 1000\n",
      "}\n",
      "```\n"
     ]
    }
   ],
   "source": [
    "text = \"2025-05-02, 1000, Salary\"\n",
    "features = extract_features(text)\n",
    "print(features)"
   ]
  }
 ],
 "metadata": {
  "kernelspec": {
   "display_name": "telegram_bot_lib",
   "language": "python",
   "name": "python3"
  },
  "language_info": {
   "codemirror_mode": {
    "name": "ipython",
    "version": 3
   },
   "file_extension": ".py",
   "mimetype": "text/x-python",
   "name": "python",
   "nbconvert_exporter": "python",
   "pygments_lexer": "ipython3",
   "version": "3.8.10"
  }
 },
 "nbformat": 4,
 "nbformat_minor": 5
}
