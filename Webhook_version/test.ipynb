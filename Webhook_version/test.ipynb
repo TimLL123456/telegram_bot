{
 "cells": [
  {
   "cell_type": "code",
   "execution_count": 1,
   "id": "8ae078a1",
   "metadata": {},
   "outputs": [
    {
     "data": {
      "text/plain": [
       "True"
      ]
     },
     "execution_count": 1,
     "metadata": {},
     "output_type": "execute_result"
    }
   ],
   "source": [
    "# Please install OpenAI SDK first: `pip3 install openai`\n",
    "from openai import OpenAI\n",
    "import os\n",
    "from dotenv import load_dotenv\n",
    "import json\n",
    "\n",
    "load_dotenv()"
   ]
  },
  {
   "cell_type": "code",
   "execution_count": 2,
   "id": "1e02384d",
   "metadata": {},
   "outputs": [],
   "source": [
    "DEEPSEEK_API = os.getenv(\"DEEPSEEK_API\")  # Load the API key from the environment variable"
   ]
  },
  {
   "cell_type": "markdown",
   "id": "63286a37",
   "metadata": {},
   "source": [
    "### Deepseek from `OpenAI` Trial"
   ]
  },
  {
   "cell_type": "code",
   "execution_count": 3,
   "id": "6a1f8dd4",
   "metadata": {},
   "outputs": [
    {
     "name": "stdout",
     "output_type": "stream",
     "text": [
      "哈哈，這個開場白有點突然啊！不過如果你是在開玩笑的話——「爸，我記得你上次說要給我零用錢，是不是該兌現了？」（開個小玩笑～）  \n",
      "\n",
      "其實我是個AI助手，專門負責回答問題、提供資訊或陪你聊聊天。如果有什麼需要幫忙的，儘管告訴我！ 😄  \n",
      "\n",
      "（如果剛才的稱呼讓你覺得冒犯，也可以直接說哦，我會調整的～）\n"
     ]
    }
   ],
   "source": [
    "client = OpenAI(api_key=DEEPSEEK_API, base_url=\"https://api.deepseek.com\")\n",
    "\n",
    "response = client.chat.completions.create(\n",
    "    model=\"deepseek-chat\",\n",
    "    messages=[\n",
    "        {\"role\": \"system\", \"content\": \"You are a helpful assistant\"},\n",
    "        {\"role\": \"user\", \"content\": \"你是誰？我是你爸？\"},\n",
    "    ],\n",
    "    stream=False\n",
    ")\n",
    "\n",
    "print(response.choices[0].message.content)"
   ]
  },
  {
   "cell_type": "code",
   "execution_count": 14,
   "id": "53f67f95",
   "metadata": {},
   "outputs": [],
   "source": [
    "# Extract features using OpenAI\n",
    "def extract_features(text: str) -> dict:\n",
    "    prompt = f\"\"\"\n",
    "    Extract the following features from the input text as a JSON object:\n",
    "    - Date (ISO format, e.g., 2025-05-02; use today's date if not specified)\n",
    "    - Category (either 'Income' or 'Expense', guess if not clear)\n",
    "    - Description (short summary of the transaction)\n",
    "    - Price (numeric value, assume USD if no currency specified)\n",
    "\n",
    "    Input: {text}\n",
    "\n",
    "    Return a JSON object with these fields. If a field cannot be determined, use reasonable defaults or null.\n",
    "    \"\"\"\n",
    "\n",
    "    response = client.chat.completions.create(\n",
    "        model=\"deepseek-chat\",\n",
    "        messages=[\n",
    "            {\"role\": \"system\", \"content\": \"You are a helpful assistant that extracts structured data from text.\"},\n",
    "            {\"role\": \"user\", \"content\": prompt}\n",
    "        ]\n",
    "    )\n",
    "    return response.choices[0].message.content"
   ]
  },
  {
   "cell_type": "code",
   "execution_count": 15,
   "id": "755f22b4",
   "metadata": {},
   "outputs": [
    {
     "name": "stdout",
     "output_type": "stream",
     "text": [
      "```json\n",
      "{\n",
      "  \"Date\": \"2025-05-02\",\n",
      "  \"Category\": \"Income\",\n",
      "  \"Description\": \"Salary\",\n",
      "  \"Price\": 1000\n",
      "}\n",
      "```\n"
     ]
    }
   ],
   "source": [
    "text = \"2025-05-02, 1000, Salary\"\n",
    "features = extract_features(text)\n",
    "print(features)"
   ]
  },
  {
   "cell_type": "markdown",
   "id": "329ec172",
   "metadata": {},
   "source": [
    "### Structured LLM Output by `Langchain`"
   ]
  },
  {
   "cell_type": "markdown",
   "id": "83043831",
   "metadata": {},
   "source": [
    "Reference:\n",
    "1. How to return structured data from a model: <br> https://python.langchain.com/docs/how_to/structured_output/#the-with_structured_output-method\n",
    "2. Structured outputs: <br> https://python.langchain.com/docs/concepts/structured_outputs/"
   ]
  },
  {
   "cell_type": "code",
   "execution_count": 4,
   "id": "47fea05a",
   "metadata": {},
   "outputs": [
    {
     "data": {
      "text/plain": [
       "AIMessage(content='The capital of France is **Paris**. It is one of the most famous and visited cities in the world, known for landmarks like the Eiffel Tower, the Louvre Museum, and Notre-Dame Cathedral.  \\n\\nWould you like recommendations for things to do in Paris? 😊', additional_kwargs={'refusal': None}, response_metadata={'token_usage': {'completion_tokens': 56, 'prompt_tokens': 10, 'total_tokens': 66, 'completion_tokens_details': None, 'prompt_tokens_details': {'audio_tokens': None, 'cached_tokens': 0}, 'prompt_cache_hit_tokens': 0, 'prompt_cache_miss_tokens': 10}, 'model_name': 'deepseek-chat', 'system_fingerprint': 'fp_8802369eaa_prod0425fp8', 'id': '3bd16abd-d114-44e2-a3e9-7fb674e5f229', 'service_tier': None, 'finish_reason': 'stop', 'logprobs': None}, id='run--1e2bf4fe-ee5a-48fb-907d-c04d339c2b22-0', usage_metadata={'input_tokens': 10, 'output_tokens': 56, 'total_tokens': 66, 'input_token_details': {'cache_read': 0}, 'output_token_details': {}})"
      ]
     },
     "execution_count": 4,
     "metadata": {},
     "output_type": "execute_result"
    }
   ],
   "source": [
    "import os\n",
    "from langchain.chat_models import init_chat_model\n",
    "\n",
    "os.environ[\"DEEPSEEK_API_KEY\"] = DEEPSEEK_API  # Set the API key in the environment variable\n",
    "\n",
    "llm = init_chat_model(\"deepseek-chat\", model_provider=\"deepseek\")\n",
    "\n",
    "llm.invoke(\"What is the capital of France?\")"
   ]
  },
  {
   "cell_type": "code",
   "execution_count": 12,
   "id": "d49289a5",
   "metadata": {},
   "outputs": [
    {
     "data": {
      "text/plain": [
       "Joke(setup=\"Why don't cats play poker in the wild?\", punchline='Because there are too many cheetahs!', rating=7)"
      ]
     },
     "execution_count": 12,
     "metadata": {},
     "output_type": "execute_result"
    }
   ],
   "source": [
    "from typing import Optional\n",
    "from pydantic import BaseModel, Field\n",
    "\n",
    "\n",
    "# Pydantic\n",
    "class Joke(BaseModel):\n",
    "    \"\"\"Joke to tell user.\"\"\"\n",
    "\n",
    "    setup: str = Field(description=\"The setup of the joke\")\n",
    "    punchline: str = Field(description=\"The punchline to the joke\")\n",
    "    rating: Optional[int] = Field(\n",
    "        default=None, description=\"How funny the joke is, from 1 to 10\"\n",
    "    )\n",
    "\n",
    "\n",
    "structured_llm = llm.with_structured_output(Joke)\n",
    "structured_llm.invoke(\"Tell me a joke about cats\")"
   ]
  },
  {
   "cell_type": "code",
   "execution_count": null,
   "id": "78b8498d",
   "metadata": {},
   "outputs": [
    {
     "name": "stdout",
     "output_type": "stream",
     "text": [
      "{\n",
      "    \"date\": \"2023-10-26\",\n",
      "    \"category\": \"Food & Dining\",\n",
      "    \"description\": \"Eat five guys today\",\n",
      "    \"price\": 59.0\n",
      "}\n"
     ]
    }
   ],
   "source": [
    "text_input = \"2025-05-02, 1000, Salary\"\n",
    "\n",
    "class FeaturesFormatter(BaseModel):\n",
    "    \"\"\"Feature formatter to extract features from text.\"\"\"\n",
    "\n",
    "    date: str = Field(description=\"Date of the transaction in ISO format (e.g., 2025-05-02)\")\n",
    "    category: str = Field(description=\"Category of the transaction\")\n",
    "    description: str = Field(description=\"Description of the transaction\")\n",
    "    price: float = Field(description=\"Price of the transaction in HKD\")\n",
    "\n",
    "# Initialize the LLM with structured output\n",
    "structured_llm = llm.with_structured_output(FeaturesFormatter)\n",
    "\n",
    "# Function to extract features from user input text\n",
    "def extract_bookkeeping_features(text: str) -> dict:\n",
    "    structured_output = structured_llm.invoke(text)\n",
    "    return structured_output.model_dump()\n",
    "\n",
    "# Example usage\n",
    "user_input = \"Eat five guys today for 59 HKD\"\n",
    "features = extract_bookkeeping_features(user_input)\n",
    "print(json.dumps(features, indent=4))"
   ]
  }
 ],
 "metadata": {
  "kernelspec": {
   "display_name": "web_bot",
   "language": "python",
   "name": "python3"
  },
  "language_info": {
   "codemirror_mode": {
    "name": "ipython",
    "version": 3
   },
   "file_extension": ".py",
   "mimetype": "text/x-python",
   "name": "python",
   "nbconvert_exporter": "python",
   "pygments_lexer": "ipython3",
   "version": "3.10.14"
  }
 },
 "nbformat": 4,
 "nbformat_minor": 5
}
